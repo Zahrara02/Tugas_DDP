{
  "nbformat": 4,
  "nbformat_minor": 0,
  "metadata": {
    "colab": {
      "provenance": [],
      "toc_visible": true,
      "authorship_tag": "ABX9TyPDFpunRZPoMjXfapMBs3vb",
      "include_colab_link": true
    },
    "kernelspec": {
      "name": "python3",
      "display_name": "Python 3"
    },
    "language_info": {
      "name": "python"
    }
  },
  "cells": [
    {
      "cell_type": "markdown",
      "metadata": {
        "id": "view-in-github",
        "colab_type": "text"
      },
      "source": [
        "<a href=\"https://colab.research.google.com/github/Zahrara02/Tugas_DDP/blob/main/PRAKTEK_5.ipynb\" target=\"_parent\"><img src=\"https://colab.research.google.com/assets/colab-badge.svg\" alt=\"Open In Colab\"/></a>"
      ]
    },
    {
      "cell_type": "code",
      "execution_count": null,
      "metadata": {
        "id": "UAC8E0tFYjkN",
        "colab": {
          "base_uri": "https://localhost:8080/"
        },
        "outputId": "ca65f2bb-8cae-442c-c820-e628dcae3b1d"
      },
      "outputs": [
        {
          "output_type": "stream",
          "name": "stdout",
          "text": [
            "b 4030 rfs\n",
            "Vario\n",
            "honda\n",
            "motor\n",
            "150\n",
            "pink\n",
            "35 juta\n",
            "2 roda\n"
          ]
        }
      ],
      "source": [
        "kendaraan=[\"b 4030 rfs\", \"Vario\", \"150\", \"pink\"]\n",
        "kendaraan.append(\"35 juta\")\n",
        "kendaraan.append(\"2 roda\")\n",
        "kendaraan.insert(2,\"honda\")\n",
        "kendaraan.insert(3,\"motor\")\n",
        "print(kendaraan [0])\n",
        "print(kendaraan [1])\n",
        "print(kendaraan [2])\n",
        "print(kendaraan [3])\n",
        "print(kendaraan [4])\n",
        "print(kendaraan [5])\n",
        "print(kendaraan [6])\n",
        "print(kendaraan [7])"
      ]
    },
    {
      "cell_type": "code",
      "source": [
        "\n",
        "ket='''silahkan pilih rumus luas di bawah ini\n",
        "silahkan pilih\n",
        "se'1'\n",
        "1.untuk menghitung luas persegi\n",
        "2.untuk menghitung luas lingkaran\n",
        "3.untuk menghitung luas segitiga\n",
        "'''\n",
        "\n",
        "pilihan = input(ket)\n",
        "match pilihan:\n",
        "   case '1':\n",
        "      print ('memilih rumus 1 untuk menghitung luas persegi')\n",
        "      sisi = int(input(\"masukan sisi?\"))\n",
        "      luas = sisi * sisi\n",
        "      print ('luas persegi yang sisinya',sisi,'adalah',luas)\n",
        "   case '2':\n",
        "      print ('memilih rumus 2 untuk menghitung luas lingkaran')\n",
        "      jari2 = float(input(\"masukan sisi?\"))\n",
        "      luas = 3.14 * jari2 * jari2\n",
        "      print (\"luas lingkaran yang jari2nya\")\n",
        "   case '3':\n",
        "      print ('memilih rumus 3 untuk menghitung luas segitiga')\n",
        "      alas = int(input('masukan alas?'))\n",
        "      tinggi= int(input(\"masukan tinggi?\"))\n",
        "      luas=0.5 * alas * tinggi\n",
        "      print (\"luas segitiga yang alasnya\", alas, \"tinggi\", tinggi, \"adalah\", luas)\n",
        "   case _ :\n",
        "       print (\"salah memilih pilihan\")"
      ],
      "metadata": {
        "id": "RKgrfCvhkyE5"
      },
      "execution_count": null,
      "outputs": []
    }
  ]
}